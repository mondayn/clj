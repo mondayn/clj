{
 "cells": [
  {
   "cell_type": "markdown",
   "metadata": {
    "ExecuteTime": {
     "start_time": "2021-03-28T20:04:16.422Z"
    }
   },
   "source": [
    "using https://github.com/clojupyter/clojupyter kernel"
   ]
  },
  {
   "cell_type": "markdown",
   "metadata": {
    "ExecuteTime": {
     "start_time": "2021-03-07T14:28:01.833Z"
    }
   },
   "source": [
    "https://clojure.org/api/cheatsheet"
   ]
  },
  {
   "cell_type": "markdown",
   "metadata": {},
   "source": [
    "## Structures"
   ]
  },
  {
   "cell_type": "code",
   "execution_count": 49,
   "metadata": {
    "ExecuteTime": {
     "end_time": "2021-03-27T20:48:49-05:00",
     "start_time": "2021-03-28T01:48:49.330Z"
    }
   },
   "outputs": [
    {
     "data": {
      "text/plain": [
       "clojure.lang.PersistentList"
      ]
     },
     "execution_count": 49,
     "metadata": {},
     "output_type": "execute_result"
    }
   ],
   "source": [
    "(type '(1 2))"
   ]
  },
  {
   "cell_type": "code",
   "execution_count": 50,
   "metadata": {
    "ExecuteTime": {
     "end_time": "2021-03-27T20:48:49-05:00",
     "start_time": "2021-03-28T01:48:49.332Z"
    }
   },
   "outputs": [
    {
     "data": {
      "text/plain": [
       "clojure.lang.PersistentVector"
      ]
     },
     "execution_count": 50,
     "metadata": {},
     "output_type": "execute_result"
    }
   ],
   "source": [
    "(type [1 2 3])"
   ]
  },
  {
   "cell_type": "code",
   "execution_count": 51,
   "metadata": {
    "ExecuteTime": {
     "end_time": "2021-03-27T20:48:49-05:00",
     "start_time": "2021-03-28T01:48:49.334Z"
    }
   },
   "outputs": [
    {
     "data": {
      "text/plain": [
       "300"
      ]
     },
     "execution_count": 51,
     "metadata": {},
     "output_type": "execute_result"
    }
   ],
   "source": [
    "(nth [1 2 300] 2) ; get third element, zero based"
   ]
  },
  {
   "cell_type": "code",
   "execution_count": 52,
   "metadata": {
    "ExecuteTime": {
     "end_time": "2021-03-27T20:48:49-05:00",
     "start_time": "2021-03-28T01:48:49.336Z"
    }
   },
   "outputs": [
    {
     "data": {
      "text/plain": [
       "(1 2)"
      ]
     },
     "execution_count": 52,
     "metadata": {},
     "output_type": "execute_result"
    }
   ],
   "source": [
    "(take 2 [1 2 300]) "
   ]
  },
  {
   "cell_type": "code",
   "execution_count": 53,
   "metadata": {
    "ExecuteTime": {
     "end_time": "2021-03-27T20:48:49-05:00",
     "start_time": "2021-03-28T01:48:49.337Z"
    }
   },
   "outputs": [
    {
     "data": {
      "text/plain": [
       "{:symbol1 \"value1\", :symbol2 \"val2\"}"
      ]
     },
     "execution_count": 53,
     "metadata": {},
     "output_type": "execute_result"
    }
   ],
   "source": [
    "{:symbol1 \"value1\" :symbol2 \"val2\"}  ;;dictionary or mapping"
   ]
  },
  {
   "cell_type": "code",
   "execution_count": 54,
   "metadata": {
    "ExecuteTime": {
     "end_time": "2021-03-27T20:48:49-05:00",
     "start_time": "2021-03-28T01:48:49.341Z"
    }
   },
   "outputs": [
    {
     "data": {
      "text/plain": [
       "\"val2\""
      ]
     },
     "execution_count": 54,
     "metadata": {},
     "output_type": "execute_result"
    }
   ],
   "source": [
    "({:symbol1 \"value1\" :symbol2 \"val2\"} :symbol2) ; use key to get val2"
   ]
  },
  {
   "cell_type": "code",
   "execution_count": 55,
   "metadata": {
    "ExecuteTime": {
     "end_time": "2021-03-27T20:48:49-05:00",
     "start_time": "2021-03-28T01:48:49.343Z"
    }
   },
   "outputs": [
    {
     "data": {
      "text/plain": [
       "{:key1 \"value1\", :key2 \"value2\", :key3 \"value3\"}"
      ]
     },
     "execution_count": 55,
     "metadata": {},
     "output_type": "execute_result"
    }
   ],
   "source": [
    "(assoc {:key1 \"old value1\" :key2 \"value2\"} \n",
    "        :key1 \"value1\" :key3 \"value3\")"
   ]
  },
  {
   "cell_type": "code",
   "execution_count": 56,
   "metadata": {
    "ExecuteTime": {
     "end_time": "2021-03-27T20:48:49-05:00",
     "start_time": "2021-03-28T01:48:49.345Z"
    }
   },
   "outputs": [
    {
     "data": {
      "text/plain": [
       "\"val\""
      ]
     },
     "execution_count": 56,
     "metadata": {},
     "output_type": "execute_result"
    }
   ],
   "source": [
    "(:key1 (assoc {} :key1 \"val\"))"
   ]
  },
  {
   "cell_type": "markdown",
   "metadata": {
    "ExecuteTime": {
     "start_time": "2021-03-20T14:46:18.768Z"
    }
   },
   "source": [
    "## Print"
   ]
  },
  {
   "cell_type": "code",
   "execution_count": 57,
   "metadata": {
    "ExecuteTime": {
     "end_time": "2021-03-27T20:48:49-05:00",
     "start_time": "2021-03-28T01:48:49.348Z"
    }
   },
   "outputs": [
    {
     "data": {
      "text/plain": [
       "\"\\\"this\\\"\""
      ]
     },
     "execution_count": 57,
     "metadata": {},
     "output_type": "execute_result"
    }
   ],
   "source": [
    "(pr-str \"this\") ; returns output"
   ]
  },
  {
   "cell_type": "code",
   "execution_count": 58,
   "metadata": {
    "ExecuteTime": {
     "end_time": "2021-03-27T20:48:49-05:00",
     "start_time": "2021-03-28T01:48:49.350Z"
    }
   },
   "outputs": [
    {
     "name": "stdout",
     "output_type": "stream",
     "text": [
      "12\n",
      "1"
     ]
    },
    {
     "data": {
      "text/plain": [
       "nil"
      ]
     },
     "execution_count": 58,
     "metadata": {},
     "output_type": "execute_result"
    }
   ],
   "source": [
    "; doesn't return output\n",
    "(pr 1) \n",
    "(prn 2) ; n for line feed\n",
    "(print \"1\")\n"
   ]
  },
  {
   "cell_type": "markdown",
   "metadata": {},
   "source": [
    "## Functions"
   ]
  },
  {
   "cell_type": "code",
   "execution_count": 59,
   "metadata": {
    "ExecuteTime": {
     "end_time": "2021-03-27T20:48:49-05:00",
     "start_time": "2021-03-28T01:48:49.352Z"
    }
   },
   "outputs": [
    {
     "data": {
      "text/plain": [
       "2"
      ]
     },
     "execution_count": 59,
     "metadata": {},
     "output_type": "execute_result"
    }
   ],
   "source": [
    "(inc 1)"
   ]
  },
  {
   "cell_type": "code",
   "execution_count": 60,
   "metadata": {
    "ExecuteTime": {
     "end_time": "2021-03-27T20:48:49-05:00",
     "start_time": "2021-03-28T01:48:49.353Z"
    }
   },
   "outputs": [
    {
     "data": {
      "text/plain": [
       "(0 1 2 3 4 5 6 7 8 9 10 11 12 13 14 15 16 17 18 19 20 21 22 23 24 25 26 27 28 29 30 31 32 33 34 35 36 37 38 39 40 41 42 43 44 45 46 47 48 49)"
      ]
     },
     "execution_count": 60,
     "metadata": {},
     "output_type": "execute_result"
    }
   ],
   "source": [
    "(range 50)"
   ]
  },
  {
   "cell_type": "code",
   "execution_count": 61,
   "metadata": {
    "ExecuteTime": {
     "end_time": "2021-03-27T20:48:49-05:00",
     "start_time": "2021-03-28T01:48:49.355Z"
    }
   },
   "outputs": [
    {
     "data": {
      "text/plain": [
       "15"
      ]
     },
     "execution_count": 61,
     "metadata": {},
     "output_type": "execute_result"
    }
   ],
   "source": [
    "(reduce + [1 2 3 4 5]) ; sum of values"
   ]
  },
  {
   "cell_type": "code",
   "execution_count": 62,
   "metadata": {
    "ExecuteTime": {
     "end_time": "2021-03-27T20:48:49-05:00",
     "start_time": "2021-03-28T01:48:49.357Z"
    }
   },
   "outputs": [
    {
     "data": {
      "text/plain": [
       "36"
      ]
     },
     "execution_count": 62,
     "metadata": {},
     "output_type": "execute_result"
    }
   ],
   "source": [
    "; # for anonymous fx, where % is wildcard parameter\n",
    "(#(* % 3) 12)"
   ]
  },
  {
   "cell_type": "code",
   "execution_count": 63,
   "metadata": {
    "ExecuteTime": {
     "end_time": "2021-03-27T20:48:49-05:00",
     "start_time": "2021-03-28T01:48:49.359Z"
    }
   },
   "outputs": [
    {
     "data": {
      "text/plain": [
       "1103"
      ]
     },
     "execution_count": 63,
     "metadata": {},
     "output_type": "execute_result"
    }
   ],
   "source": [
    "; can take multiple parameters as %1 %2\n",
    "(#(+ %1 %2 3) 100 1000)"
   ]
  },
  {
   "cell_type": "code",
   "execution_count": 64,
   "metadata": {
    "ExecuteTime": {
     "end_time": "2021-03-27T20:48:49-05:00",
     "start_time": "2021-03-28T01:48:49.360Z"
    }
   },
   "outputs": [
    {
     "data": {
      "text/plain": [
       "(1 2)"
      ]
     },
     "execution_count": 64,
     "metadata": {},
     "output_type": "execute_result"
    }
   ],
   "source": [
    "(take-while #(< % 3) [1 2 3 4])"
   ]
  },
  {
   "cell_type": "code",
   "execution_count": 65,
   "metadata": {
    "ExecuteTime": {
     "end_time": "2021-03-27T20:48:49-05:00",
     "start_time": "2021-03-28T01:48:49.361Z"
    }
   },
   "outputs": [
    {
     "data": {
      "text/plain": [
       "(1 2)"
      ]
     },
     "execution_count": 65,
     "metadata": {},
     "output_type": "execute_result"
    }
   ],
   "source": [
    "(filter #(< % 3) [1 2 3 4])"
   ]
  },
  {
   "cell_type": "code",
   "execution_count": 66,
   "metadata": {
    "ExecuteTime": {
     "end_time": "2021-03-27T20:48:49-05:00",
     "start_time": "2021-03-28T01:48:49.363Z"
    }
   },
   "outputs": [
    {
     "data": {
      "text/plain": [
       "(5 6 7)"
      ]
     },
     "execution_count": 66,
     "metadata": {},
     "output_type": "execute_result"
    }
   ],
   "source": [
    "(take 3 (iterate inc 5)) ; careful - iterate runs forever"
   ]
  },
  {
   "cell_type": "code",
   "execution_count": 67,
   "metadata": {
    "ExecuteTime": {
     "end_time": "2021-03-27T20:48:49-05:00",
     "start_time": "2021-03-28T01:48:49.364Z"
    }
   },
   "outputs": [
    {
     "data": {
      "text/plain": [
       "\"x = y\""
      ]
     },
     "execution_count": 67,
     "metadata": {},
     "output_type": "execute_result"
    }
   ],
   "source": [
    "(defn myfn [x y]\n",
    "    \"docstring\"\n",
    "    (cond\n",
    "        (= x y) \"x = y\"\n",
    "        (> x y) \"x > y\"\n",
    "        (< x y) \"x < y\"\n",
    "    )\n",
    ")\n",
    "\n",
    "(myfn 2 2)"
   ]
  },
  {
   "cell_type": "code",
   "execution_count": 68,
   "metadata": {
    "ExecuteTime": {
     "end_time": "2021-03-27T20:48:49-05:00",
     "start_time": "2021-03-28T01:48:49.366Z"
    }
   },
   "outputs": [
    {
     "data": {
      "text/plain": [
       "(9 7 6 3 3)"
      ]
     },
     "execution_count": 68,
     "metadata": {},
     "output_type": "execute_result"
    }
   ],
   "source": [
    "; & gets remaining params\n",
    "(defn myfn\n",
    "    [first-param & remaining-params]\n",
    "    (seq remaining-params)\n",
    ")\n",
    "\n",
    "(myfn 2 9 7 6 3 3 )"
   ]
  },
  {
   "cell_type": "code",
   "execution_count": 69,
   "metadata": {
    "ExecuteTime": {
     "end_time": "2021-03-27T20:48:49-05:00",
     "start_time": "2021-03-28T01:48:49.367Z"
    }
   },
   "outputs": [
    {
     "data": {
      "text/plain": [
       "(101 201 301)"
      ]
     },
     "execution_count": 69,
     "metadata": {},
     "output_type": "execute_result"
    }
   ],
   "source": [
    "; chaining \n",
    "; https://clojure.org/guides/threading_macros\n",
    "\n",
    "(as-> \n",
    "    [100 200 300] v ; a vector v consisting of three numbers\n",
    "    (map inc v)\n",
    ")"
   ]
  },
  {
   "cell_type": "markdown",
   "metadata": {},
   "source": [
    "## imports"
   ]
  },
  {
   "cell_type": "code",
   "execution_count": 137,
   "metadata": {
    "ExecuteTime": {
     "end_time": "2021-03-28T13:25:04-05:00",
     "start_time": "2021-03-28T18:25:04.607Z"
    }
   },
   "outputs": [
    {
     "name": "stdout",
     "output_type": "stream",
     "text": [
      "-------------------------\n",
      "clojure.java.io/reader\n",
      "([x & opts])\n",
      "  Attempts to coerce its argument into an open java.io.Reader.\n",
      "   Default implementations always return a java.io.BufferedReader.\n",
      "\n",
      "   Default implementations are provided for Reader, BufferedReader,\n",
      "   InputStream, File, URI, URL, Socket, byte arrays, character arrays,\n",
      "   and String.\n",
      "\n",
      "   If argument is a String, it tries to resolve it first as a URI, then\n",
      "   as a local file name.  URIs with a 'file' protocol are converted to\n",
      "   local file names.\n",
      "\n",
      "   Should be used inside with-open to ensure the Reader is properly\n",
      "   closed.\n"
     ]
    },
    {
     "data": {
      "text/plain": [
       "nil"
      ]
     },
     "execution_count": 137,
     "metadata": {},
     "output_type": "execute_result"
    }
   ],
   "source": [
    "(use 'clojure.repl)\n",
    "(doc clojure.java.io/reader)"
   ]
  },
  {
   "cell_type": "markdown",
   "metadata": {},
   "source": [
    "# read a file"
   ]
  },
  {
   "cell_type": "code",
   "execution_count": null,
   "metadata": {
    "ExecuteTime": {
     "end_time": "2021-03-27T21:22:55-05:00",
     "start_time": "2021-03-28T02:22:52.166Z"
    }
   },
   "outputs": [],
   "source": [
    "(require '[clojure.string :as s])\n",
    "\n",
    "(defn csv-data [] (->>\n",
    "    (slurp \"C:/users/hvu7470/facility_master_small.csv\")\n",
    "    (s/split-lines)\n",
    "    (map #(s/split % #\",\"))))\n",
    "\n",
    "(defn get-header[] (->>\n",
    "    (csv-data)\n",
    "    (first)\n",
    "    (map keyword)))\n",
    "\n",
    "(defn csv-mapped[] (map #(zipmap (get-header) %) (rest (csv-data)) ))\n",
    "\n",
    "(->>\n",
    "    (csv-mapped)\n",
    "    (take 5)\n",
    "    (clojure.pprint/print-table)\n",
    ")"
   ]
  },
  {
   "cell_type": "code",
   "execution_count": null,
   "metadata": {
    "ExecuteTime": {
     "end_time": "2021-03-27T21:23:06-05:00",
     "start_time": "2021-03-28T02:23:06.670Z"
    }
   },
   "outputs": [],
   "source": [
    "(->>\n",
    "    (csv-mapped)\n",
    ";;     (take 10)\n",
    "    (map :beds_in_operation)\n",
    "    (map #(try (Integer/parseInt %) (catch Exception e 0)) )  \n",
    "    (reduce +)\n",
    "    (str \"total beds = \")\n",
    ")"
   ]
  },
  {
   "cell_type": "markdown",
   "metadata": {
    "ExecuteTime": {
     "start_time": "2021-03-21T01:57:04.841Z"
    }
   },
   "source": [
    "https://statcompute.wordpress.com/2018/03/18/do-we-really-need-dataframe-in-clojure/\n",
    "\n",
    "https://techascent.github.io/tech.ml.dataset/"
   ]
  },
  {
   "cell_type": "code",
   "execution_count": 262,
   "metadata": {
    "ExecuteTime": {
     "end_time": "2021-03-28T15:05:30-05:00",
     "start_time": "2021-03-28T20:05:29.955Z"
    }
   },
   "outputs": [
    {
     "name": "stdout",
     "output_type": "stream",
     "text": [
      "\n",
      "|              API |                                 Description |   Auth | HTTPS |    Cors |                                                                       Link |     Category |\n",
      "|------------------+---------------------------------------------+--------+-------+---------+----------------------------------------------------------------------------+--------------|\n",
      "|        Cat Facts |                             Daily cat facts |        |  true |      no |                                 https://alexwohlbruck.github.io/cat-facts/ |      Animals |\n",
      "|             Cats |                Pictures of cats from Tumblr | apiKey |  true | unknown |                                                https://docs.thecatapi.com/ |      Animals |\n",
      "|             Dogs |          Based on the Stanford Dogs Dataset |        |  true |     yes |                                                   https://dog.ceo/dog-api/ |      Animals |\n",
      "|          HTTPCat |                   Cat for every HTTP Status |        |  true | unknown |                                                          https://http.cat/ |      Animals |\n",
      "|             IUCN |         IUCN Red List of Threatened Species | apiKey | false | unknown |                                   http://apiv3.iucnredlist.org/api/v3/docs |      Animals |\n",
      "|         Movebank |      Movement and Migration data of animals |        |  true | unknown |                               https://github.com/movebank/movebank-api-doc |      Animals |\n",
      "|        RandomCat |                     Random pictures of cats |        |  true |     yes |                                                https://aws.random.cat/meow |      Animals |\n",
      "|        RandomDog |                     Random pictures of dogs |        |  true |     yes |                                               https://random.dog/woof.json |      Animals |\n",
      "|        RandomFox |                    Random pictures of foxes |        |  true |      no |                                                https://randomfox.ca/floof/ |      Animals |\n",
      "|     RescueGroups |                                    Adoption |        |  true | unknown | https://userguide.rescuegroups.org/display/APIDG/API+Developers+Guide+Home |      Animals |\n",
      "|     Shibe.Online | Random pictures of Shibu Inu, cats or birds |        |  true |     yes |                                                       http://shibe.online/ |      Animals |\n",
      "|          AniList |                  Anime discovery & tracking |  OAuth |  true | unknown |                              https://github.com/AniList/ApiV2-GraphQL-Docs |        Anime |\n",
      "|        AnimeChan |                    Anime quotes (over 10k+) |        |  true |      no |                                https://github.com/RocktimSaikia/anime-chan |        Anime |\n",
      "| AnimeNewsNetwork |                         Anime industry news |        |  true |     yes |                      https://www.animenewsnetwork.com/encyclopedia/api.php |        Anime |\n",
      "|            Jikan |                  Unofficial MyAnimeList API |        |  true |     yes |                                                          https://jikan.moe |        Anime |\n",
      "|            Kitsu |                    Anime discovery platform |  OAuth |  true |     yes |                                              https://kitsu.docs.apiary.io/ |        Anime |\n",
      "|      MyAnimeList |      Anime and Manga Database and Community |  OAuth |  true | unknown |                                https://myanimelist.net/clubs.php?cid=13727 |        Anime |\n",
      "|    Studio Ghibli |          Resources from Studio Ghibli films |        |  true |     yes |                                            https://ghibliapi.herokuapp.com |        Anime |\n",
      "|       What Anime |     Scan anime image to get specific detail |        |  true |     yes |                                        https://soruly.github.io/trace.moe/ |        Anime |\n",
      "|        AbuseIPDB |                    IP/domain/URL reputation | apiKey |  true | unknown |                                                https://docs.abuseipdb.com/ | Anti-Malware |\n"
     ]
    },
    {
     "data": {
      "text/plain": [
       "nil"
      ]
     },
     "execution_count": 262,
     "metadata": {},
     "output_type": "execute_result"
    }
   ],
   "source": [
    "(require '[clojure.data.json :as json])\n",
    "\n",
    "(defn get-entries[] \n",
    "    (->\n",
    "    (slurp \"https://api.publicapis.org/entries\")\n",
    "    (json/read-str)\n",
    "    (get \"entries\")\n",
    "    ))\n",
    "\n",
    "(->>\n",
    "    (get-entries)\n",
    "    (take 20)\n",
    ";;     (map #(select-keys % [\"API\" \"Description\" \"Auth\" \"Category\"]))\n",
    "    (clojure.pprint/print-table)\n",
    ")\n"
   ]
  }
 ],
 "metadata": {
  "kernelspec": {
   "display_name": "Clojure (clojupyter=0.3.2=1)",
   "language": "clojure",
   "name": "conda-clojupyter"
  },
  "language_info": {
   "file_extension": ".clj",
   "mimetype": "text/x-clojure",
   "name": "clojure",
   "version": "1.10.1"
  },
  "varInspector": {
   "cols": {
    "lenName": 16,
    "lenType": 16,
    "lenVar": 40
   },
   "kernels_config": {
    "python": {
     "delete_cmd_postfix": "",
     "delete_cmd_prefix": "del ",
     "library": "var_list.py",
     "varRefreshCmd": "print(var_dic_list())"
    },
    "r": {
     "delete_cmd_postfix": ") ",
     "delete_cmd_prefix": "rm(",
     "library": "var_list.r",
     "varRefreshCmd": "cat(var_dic_list()) "
    }
   },
   "types_to_exclude": [
    "module",
    "function",
    "builtin_function_or_method",
    "instance",
    "_Feature"
   ],
   "window_display": false
  }
 },
 "nbformat": 4,
 "nbformat_minor": 5
}

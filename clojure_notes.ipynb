{
 "cells": [
  {
   "cell_type": "markdown",
   "metadata": {
    "ExecuteTime": {
     "start_time": "2021-03-28T20:04:16.422Z"
    }
   },
   "source": [
    "using https://github.com/clojupyter/clojupyter kernel"
   ]
  },
  {
   "cell_type": "markdown",
   "metadata": {
    "ExecuteTime": {
     "start_time": "2021-03-07T14:28:01.833Z"
    }
   },
   "source": [
    "https://clojure.org/api/cheatsheet"
   ]
  },
  {
   "cell_type": "markdown",
   "metadata": {},
   "source": [
    "## Structures"
   ]
  },
  {
   "cell_type": "code",
   "execution_count": 49,
   "metadata": {
    "ExecuteTime": {
     "end_time": "2021-03-27T20:48:49-05:00",
     "start_time": "2021-03-28T01:48:49.330Z"
    }
   },
   "outputs": [
    {
     "data": {
      "text/plain": [
       "clojure.lang.PersistentList"
      ]
     },
     "execution_count": 49,
     "metadata": {},
     "output_type": "execute_result"
    }
   ],
   "source": [
    "(type '(1 2))"
   ]
  },
  {
   "cell_type": "code",
   "execution_count": 50,
   "metadata": {
    "ExecuteTime": {
     "end_time": "2021-03-27T20:48:49-05:00",
     "start_time": "2021-03-28T01:48:49.332Z"
    }
   },
   "outputs": [
    {
     "data": {
      "text/plain": [
       "clojure.lang.PersistentVector"
      ]
     },
     "execution_count": 50,
     "metadata": {},
     "output_type": "execute_result"
    }
   ],
   "source": [
    "(type [1 2 3])"
   ]
  },
  {
   "cell_type": "code",
   "execution_count": 51,
   "metadata": {
    "ExecuteTime": {
     "end_time": "2021-03-27T20:48:49-05:00",
     "start_time": "2021-03-28T01:48:49.334Z"
    }
   },
   "outputs": [
    {
     "data": {
      "text/plain": [
       "300"
      ]
     },
     "execution_count": 51,
     "metadata": {},
     "output_type": "execute_result"
    }
   ],
   "source": [
    "(nth [1 2 300] 2) ; get third element, zero based"
   ]
  },
  {
   "cell_type": "code",
   "execution_count": 52,
   "metadata": {
    "ExecuteTime": {
     "end_time": "2021-03-27T20:48:49-05:00",
     "start_time": "2021-03-28T01:48:49.336Z"
    }
   },
   "outputs": [
    {
     "data": {
      "text/plain": [
       "(1 2)"
      ]
     },
     "execution_count": 52,
     "metadata": {},
     "output_type": "execute_result"
    }
   ],
   "source": [
    "(take 2 [1 2 300]) "
   ]
  },
  {
   "cell_type": "code",
   "execution_count": 53,
   "metadata": {
    "ExecuteTime": {
     "end_time": "2021-03-27T20:48:49-05:00",
     "start_time": "2021-03-28T01:48:49.337Z"
    }
   },
   "outputs": [
    {
     "data": {
      "text/plain": [
       "{:symbol1 \"value1\", :symbol2 \"val2\"}"
      ]
     },
     "execution_count": 53,
     "metadata": {},
     "output_type": "execute_result"
    }
   ],
   "source": [
    "{:symbol1 \"value1\" :symbol2 \"val2\"}  ;;dictionary or mapping"
   ]
  },
  {
   "cell_type": "code",
   "execution_count": 54,
   "metadata": {
    "ExecuteTime": {
     "end_time": "2021-03-27T20:48:49-05:00",
     "start_time": "2021-03-28T01:48:49.341Z"
    }
   },
   "outputs": [
    {
     "data": {
      "text/plain": [
       "\"val2\""
      ]
     },
     "execution_count": 54,
     "metadata": {},
     "output_type": "execute_result"
    }
   ],
   "source": [
    "({:symbol1 \"value1\" :symbol2 \"val2\"} :symbol2) ; use key to get val2"
   ]
  },
  {
   "cell_type": "code",
   "execution_count": 55,
   "metadata": {
    "ExecuteTime": {
     "end_time": "2021-03-27T20:48:49-05:00",
     "start_time": "2021-03-28T01:48:49.343Z"
    }
   },
   "outputs": [
    {
     "data": {
      "text/plain": [
       "{:key1 \"value1\", :key2 \"value2\", :key3 \"value3\"}"
      ]
     },
     "execution_count": 55,
     "metadata": {},
     "output_type": "execute_result"
    }
   ],
   "source": [
    "(assoc {:key1 \"old value1\" :key2 \"value2\"} \n",
    "        :key1 \"value1\" :key3 \"value3\")"
   ]
  },
  {
   "cell_type": "code",
   "execution_count": 56,
   "metadata": {
    "ExecuteTime": {
     "end_time": "2021-03-27T20:48:49-05:00",
     "start_time": "2021-03-28T01:48:49.345Z"
    }
   },
   "outputs": [
    {
     "data": {
      "text/plain": [
       "\"val\""
      ]
     },
     "execution_count": 56,
     "metadata": {},
     "output_type": "execute_result"
    }
   ],
   "source": [
    "(:key1 (assoc {} :key1 \"val\"))"
   ]
  },
  {
   "cell_type": "markdown",
   "metadata": {
    "ExecuteTime": {
     "start_time": "2021-03-20T14:46:18.768Z"
    }
   },
   "source": [
    "## Print"
   ]
  },
  {
   "cell_type": "code",
   "execution_count": 57,
   "metadata": {
    "ExecuteTime": {
     "end_time": "2021-03-27T20:48:49-05:00",
     "start_time": "2021-03-28T01:48:49.348Z"
    }
   },
   "outputs": [
    {
     "data": {
      "text/plain": [
       "\"\\\"this\\\"\""
      ]
     },
     "execution_count": 57,
     "metadata": {},
     "output_type": "execute_result"
    }
   ],
   "source": [
    "(pr-str \"this\") ; returns output"
   ]
  },
  {
   "cell_type": "code",
   "execution_count": 58,
   "metadata": {
    "ExecuteTime": {
     "end_time": "2021-03-27T20:48:49-05:00",
     "start_time": "2021-03-28T01:48:49.350Z"
    }
   },
   "outputs": [
    {
     "name": "stdout",
     "output_type": "stream",
     "text": [
      "12\n",
      "1"
     ]
    },
    {
     "data": {
      "text/plain": [
       "nil"
      ]
     },
     "execution_count": 58,
     "metadata": {},
     "output_type": "execute_result"
    }
   ],
   "source": [
    "; doesn't return output\n",
    "(pr 1) \n",
    "(prn 2) ; n for line feed\n",
    "(print \"1\")\n"
   ]
  },
  {
   "cell_type": "markdown",
   "metadata": {},
   "source": [
    "## Functions"
   ]
  },
  {
   "cell_type": "code",
   "execution_count": 59,
   "metadata": {
    "ExecuteTime": {
     "end_time": "2021-03-27T20:48:49-05:00",
     "start_time": "2021-03-28T01:48:49.352Z"
    }
   },
   "outputs": [
    {
     "data": {
      "text/plain": [
       "2"
      ]
     },
     "execution_count": 59,
     "metadata": {},
     "output_type": "execute_result"
    }
   ],
   "source": [
    "(inc 1)"
   ]
  },
  {
   "cell_type": "code",
   "execution_count": 60,
   "metadata": {
    "ExecuteTime": {
     "end_time": "2021-03-27T20:48:49-05:00",
     "start_time": "2021-03-28T01:48:49.353Z"
    }
   },
   "outputs": [
    {
     "data": {
      "text/plain": [
       "(0 1 2 3 4 5 6 7 8 9 10 11 12 13 14 15 16 17 18 19 20 21 22 23 24 25 26 27 28 29 30 31 32 33 34 35 36 37 38 39 40 41 42 43 44 45 46 47 48 49)"
      ]
     },
     "execution_count": 60,
     "metadata": {},
     "output_type": "execute_result"
    }
   ],
   "source": [
    "(range 50)"
   ]
  },
  {
   "cell_type": "code",
   "execution_count": 61,
   "metadata": {
    "ExecuteTime": {
     "end_time": "2021-03-27T20:48:49-05:00",
     "start_time": "2021-03-28T01:48:49.355Z"
    }
   },
   "outputs": [
    {
     "data": {
      "text/plain": [
       "15"
      ]
     },
     "execution_count": 61,
     "metadata": {},
     "output_type": "execute_result"
    }
   ],
   "source": [
    "(reduce + [1 2 3 4 5]) ; sum of values"
   ]
  },
  {
   "cell_type": "code",
   "execution_count": 62,
   "metadata": {
    "ExecuteTime": {
     "end_time": "2021-03-27T20:48:49-05:00",
     "start_time": "2021-03-28T01:48:49.357Z"
    }
   },
   "outputs": [
    {
     "data": {
      "text/plain": [
       "36"
      ]
     },
     "execution_count": 62,
     "metadata": {},
     "output_type": "execute_result"
    }
   ],
   "source": [
    "; # for anonymous fx, where % is wildcard parameter\n",
    "(#(* % 3) 12)"
   ]
  },
  {
   "cell_type": "code",
   "execution_count": 63,
   "metadata": {
    "ExecuteTime": {
     "end_time": "2021-03-27T20:48:49-05:00",
     "start_time": "2021-03-28T01:48:49.359Z"
    }
   },
   "outputs": [
    {
     "data": {
      "text/plain": [
       "1103"
      ]
     },
     "execution_count": 63,
     "metadata": {},
     "output_type": "execute_result"
    }
   ],
   "source": [
    "; can take multiple parameters as %1 %2\n",
    "(#(+ %1 %2 3) 100 1000)"
   ]
  },
  {
   "cell_type": "code",
   "execution_count": 64,
   "metadata": {
    "ExecuteTime": {
     "end_time": "2021-03-27T20:48:49-05:00",
     "start_time": "2021-03-28T01:48:49.360Z"
    }
   },
   "outputs": [
    {
     "data": {
      "text/plain": [
       "(1 2)"
      ]
     },
     "execution_count": 64,
     "metadata": {},
     "output_type": "execute_result"
    }
   ],
   "source": [
    "(take-while #(< % 3) [1 2 3 4])"
   ]
  },
  {
   "cell_type": "code",
   "execution_count": 65,
   "metadata": {
    "ExecuteTime": {
     "end_time": "2021-03-27T20:48:49-05:00",
     "start_time": "2021-03-28T01:48:49.361Z"
    }
   },
   "outputs": [
    {
     "data": {
      "text/plain": [
       "(1 2)"
      ]
     },
     "execution_count": 65,
     "metadata": {},
     "output_type": "execute_result"
    }
   ],
   "source": [
    "(filter #(< % 3) [1 2 3 4])"
   ]
  },
  {
   "cell_type": "code",
   "execution_count": 66,
   "metadata": {
    "ExecuteTime": {
     "end_time": "2021-03-27T20:48:49-05:00",
     "start_time": "2021-03-28T01:48:49.363Z"
    }
   },
   "outputs": [
    {
     "data": {
      "text/plain": [
       "(5 6 7)"
      ]
     },
     "execution_count": 66,
     "metadata": {},
     "output_type": "execute_result"
    }
   ],
   "source": [
    "(take 3 (iterate inc 5)) ; careful - iterate runs forever"
   ]
  },
  {
   "cell_type": "code",
   "execution_count": 67,
   "metadata": {
    "ExecuteTime": {
     "end_time": "2021-03-27T20:48:49-05:00",
     "start_time": "2021-03-28T01:48:49.364Z"
    }
   },
   "outputs": [
    {
     "data": {
      "text/plain": [
       "\"x = y\""
      ]
     },
     "execution_count": 67,
     "metadata": {},
     "output_type": "execute_result"
    }
   ],
   "source": [
    "(defn myfn [x y]\n",
    "    \"docstring\"\n",
    "    (cond\n",
    "        (= x y) \"x = y\"\n",
    "        (> x y) \"x > y\"\n",
    "        (< x y) \"x < y\"\n",
    "    )\n",
    ")\n",
    "\n",
    "(myfn 2 2)"
   ]
  },
  {
   "cell_type": "code",
   "execution_count": 68,
   "metadata": {
    "ExecuteTime": {
     "end_time": "2021-03-27T20:48:49-05:00",
     "start_time": "2021-03-28T01:48:49.366Z"
    }
   },
   "outputs": [
    {
     "data": {
      "text/plain": [
       "(9 7 6 3 3)"
      ]
     },
     "execution_count": 68,
     "metadata": {},
     "output_type": "execute_result"
    }
   ],
   "source": [
    "; & gets remaining params\n",
    "(defn myfn\n",
    "    [first-param & remaining-params]\n",
    "    (seq remaining-params)\n",
    ")\n",
    "\n",
    "(myfn 2 9 7 6 3 3 )"
   ]
  },
  {
   "cell_type": "code",
   "execution_count": 69,
   "metadata": {
    "ExecuteTime": {
     "end_time": "2021-03-27T20:48:49-05:00",
     "start_time": "2021-03-28T01:48:49.367Z"
    }
   },
   "outputs": [
    {
     "data": {
      "text/plain": [
       "(101 201 301)"
      ]
     },
     "execution_count": 69,
     "metadata": {},
     "output_type": "execute_result"
    }
   ],
   "source": [
    "; chaining \n",
    "; https://clojure.org/guides/threading_macros\n",
    "\n",
    "(as-> \n",
    "    [100 200 300] v ; a vector v consisting of three numbers\n",
    "    (map inc v)\n",
    ")"
   ]
  },
  {
   "cell_type": "markdown",
   "metadata": {},
   "source": [
    "## imports"
   ]
  },
  {
   "cell_type": "code",
   "execution_count": 137,
   "metadata": {
    "ExecuteTime": {
     "end_time": "2021-03-28T13:25:04-05:00",
     "start_time": "2021-03-28T18:25:04.607Z"
    }
   },
   "outputs": [
    {
     "name": "stdout",
     "output_type": "stream",
     "text": [
      "-------------------------\n",
      "clojure.java.io/reader\n",
      "([x & opts])\n",
      "  Attempts to coerce its argument into an open java.io.Reader.\n",
      "   Default implementations always return a java.io.BufferedReader.\n",
      "\n",
      "   Default implementations are provided for Reader, BufferedReader,\n",
      "   InputStream, File, URI, URL, Socket, byte arrays, character arrays,\n",
      "   and String.\n",
      "\n",
      "   If argument is a String, it tries to resolve it first as a URI, then\n",
      "   as a local file name.  URIs with a 'file' protocol are converted to\n",
      "   local file names.\n",
      "\n",
      "   Should be used inside with-open to ensure the Reader is properly\n",
      "   closed.\n"
     ]
    },
    {
     "data": {
      "text/plain": [
       "nil"
      ]
     },
     "execution_count": 137,
     "metadata": {},
     "output_type": "execute_result"
    }
   ],
   "source": [
    "(use 'clojure.repl)\n",
    "(doc clojure.java.io/reader)"
   ]
  },
  {
   "cell_type": "code",
   "execution_count": 1,
   "metadata": {
    "ExecuteTime": {
     "end_time": "2021-03-28T20:45:32-05:00",
     "start_time": "2021-03-29T01:45:29.990Z"
    }
   },
   "outputs": [
    {
     "name": "stdout",
     "output_type": "stream",
     "text": [
      "\n",
      "| :a | :b |\n",
      "|----+----|\n",
      "|  1 |  2 |\n",
      "|  1 |  2 |\n"
     ]
    },
    {
     "data": {
      "text/plain": [
       "nil"
      ]
     },
     "execution_count": 1,
     "metadata": {},
     "output_type": "execute_result"
    }
   ],
   "source": [
    "(clojure.pprint/print-table [{:a 1 :b 2}{:a 1 :b 2}])"
   ]
  },
  {
   "cell_type": "markdown",
   "metadata": {},
   "source": [
    "# read a file"
   ]
  },
  {
   "cell_type": "code",
   "execution_count": null,
   "metadata": {
    "ExecuteTime": {
     "end_time": "2021-03-27T21:22:55-05:00",
     "start_time": "2021-03-28T02:22:52.166Z"
    }
   },
   "outputs": [],
   "source": [
    "(require '[clojure.string :as s])\n",
    "\n",
    "(defn csv-data [] (->>\n",
    ";;     (slurp filename)\n",
    "    (s/split-lines)\n",
    "    (map #(s/split % #\",\"))))\n",
    "\n",
    "(defn get-header[] (->>\n",
    "    (csv-data)\n",
    "    (first)\n",
    "    (map keyword)))\n",
    "\n",
    "(defn csv-mapped[] (map #(zipmap (get-header) %) (rest (csv-data)) ))\n",
    "\n",
    "(->>\n",
    "    (csv-mapped)\n",
    "    (take 5)\n",
    "    (clojure.pprint/print-table)\n",
    ")"
   ]
  },
  {
   "cell_type": "code",
   "execution_count": null,
   "metadata": {
    "ExecuteTime": {
     "end_time": "2021-03-27T21:23:06-05:00",
     "start_time": "2021-03-28T02:23:06.670Z"
    }
   },
   "outputs": [],
   "source": [
    "(->>\n",
    "    (csv-mapped)\n",
    ";;     (take 10)\n",
    "    (map :beds_in_operation)\n",
    "    (map #(try (Integer/parseInt %) (catch Exception e 0)) )  \n",
    "    (reduce +)\n",
    "    (str \"total beds = \")\n",
    ")"
   ]
  },
  {
   "cell_type": "markdown",
   "metadata": {
    "ExecuteTime": {
     "start_time": "2021-03-21T01:57:04.841Z"
    }
   },
   "source": [
    "https://statcompute.wordpress.com/2018/03/18/do-we-really-need-dataframe-in-clojure/\n",
    "\n",
    "https://techascent.github.io/tech.ml.dataset/"
   ]
  },
  {
   "cell_type": "code",
   "execution_count": 1,
   "metadata": {
    "ExecuteTime": {
     "end_time": "2021-03-30T07:31:26-05:00",
     "start_time": "2021-03-30T12:31:22.512Z"
    }
   },
   "outputs": [
    {
     "name": "stdout",
     "output_type": "stream",
     "text": [
      "\n",
      "|              API |                                 Description |   Auth | HTTPS |    Cors |                                                                       Link |     Category |\n",
      "|------------------+---------------------------------------------+--------+-------+---------+----------------------------------------------------------------------------+--------------|\n",
      "|        Cat Facts |                             Daily cat facts |        |  true |      no |                                 https://alexwohlbruck.github.io/cat-facts/ |      Animals |\n",
      "|             Cats |                Pictures of cats from Tumblr | apiKey |  true | unknown |                                                https://docs.thecatapi.com/ |      Animals |\n",
      "|             Dogs |          Based on the Stanford Dogs Dataset |        |  true |     yes |                                                   https://dog.ceo/dog-api/ |      Animals |\n",
      "|          HTTPCat |                   Cat for every HTTP Status |        |  true | unknown |                                                          https://http.cat/ |      Animals |\n",
      "|             IUCN |         IUCN Red List of Threatened Species | apiKey | false | unknown |                                   http://apiv3.iucnredlist.org/api/v3/docs |      Animals |\n",
      "|         Movebank |      Movement and Migration data of animals |        |  true | unknown |                               https://github.com/movebank/movebank-api-doc |      Animals |\n",
      "|        RandomCat |                     Random pictures of cats |        |  true |     yes |                                                https://aws.random.cat/meow |      Animals |\n",
      "|        RandomDog |                     Random pictures of dogs |        |  true |     yes |                                               https://random.dog/woof.json |      Animals |\n",
      "|        RandomFox |                    Random pictures of foxes |        |  true |      no |                                                https://randomfox.ca/floof/ |      Animals |\n",
      "|     RescueGroups |                                    Adoption |        |  true | unknown | https://userguide.rescuegroups.org/display/APIDG/API+Developers+Guide+Home |      Animals |\n",
      "|     Shibe.Online | Random pictures of Shibu Inu, cats or birds |        |  true |     yes |                                                       http://shibe.online/ |      Animals |\n",
      "|          AniList |                  Anime discovery & tracking |  OAuth |  true | unknown |                              https://github.com/AniList/ApiV2-GraphQL-Docs |        Anime |\n",
      "|        AnimeChan |                    Anime quotes (over 10k+) |        |  true |      no |                                https://github.com/RocktimSaikia/anime-chan |        Anime |\n",
      "| AnimeNewsNetwork |                         Anime industry news |        |  true |     yes |                      https://www.animenewsnetwork.com/encyclopedia/api.php |        Anime |\n",
      "|            Jikan |                  Unofficial MyAnimeList API |        |  true |     yes |                                                          https://jikan.moe |        Anime |\n",
      "|            Kitsu |                    Anime discovery platform |  OAuth |  true |     yes |                                              https://kitsu.docs.apiary.io/ |        Anime |\n",
      "|      MyAnimeList |      Anime and Manga Database and Community |  OAuth |  true | unknown |                                https://myanimelist.net/clubs.php?cid=13727 |        Anime |\n",
      "|    Studio Ghibli |          Resources from Studio Ghibli films |        |  true |     yes |                                            https://ghibliapi.herokuapp.com |        Anime |\n",
      "|       What Anime |     Scan anime image to get specific detail |        |  true |     yes |                                        https://soruly.github.io/trace.moe/ |        Anime |\n",
      "|        AbuseIPDB |                    IP/domain/URL reputation | apiKey |  true | unknown |                                                https://docs.abuseipdb.com/ | Anti-Malware |\n"
     ]
    },
    {
     "data": {
      "text/plain": [
       "nil"
      ]
     },
     "execution_count": 1,
     "metadata": {},
     "output_type": "execute_result"
    }
   ],
   "source": [
    "(require '[clojure.data.json :as json])\n",
    "\n",
    "(defn get-entries[] \n",
    "    (->\n",
    "    (slurp \"https://api.publicapis.org/entries\")\n",
    "    (json/read-str)\n",
    "    (get \"entries\")\n",
    "    ))\n",
    "\n",
    "(->>\n",
    "    (get-entries)\n",
    "    (take 20)\n",
    ";;     (map #(select-keys % [\"API\" \"Description\" \"Auth\" \"Category\"]))\n",
    "    (clojure.pprint/print-table)\n",
    ")\n"
   ]
  },
  {
   "cell_type": "code",
   "execution_count": 2,
   "metadata": {
    "ExecuteTime": {
     "end_time": "2021-03-30T07:31:44-05:00",
     "start_time": "2021-03-30T12:31:44.367Z"
    }
   },
   "outputs": [
    {
     "data": {
      "text/plain": [
       "\"<html lang=\\\"en\\\" op=\\\"news\\\"><head><meta name=\\\"referrer\\\" content=\\\"origin\\\"><meta name=\\\"viewport\\\" content=\\\"width=device-width, initial-scale=1.0\\\"><link rel=\\\"stylesheet\\\" type=\\\"text/css\\\" href=\\\"news.css?Zv6dtmW8Nw0dpybHYlbr\\\">\\n        <link rel=\\\"shortcut icon\\\" href=\\\"favicon.ico\\\">\\n          <link rel=\\\"alternate\\\" type=\\\"application/rss+xml\\\" title=\\\"RSS\\\" href=\\\"rss\\\">\\n        <title>Hacker News</title></head><body><center><table id=\\\"hnmain\\\" border=\\\"0\\\" cellpadding=\\\"0\\\" cellspacing=\\\"0\\\" width=\\\"85%\\\" bgcolor=\\\"#f6f6ef\\\">\\n        <tr><td bgcolor=\\\"#ff6600\\\"><table border=\\\"0\\\" cellpadding=\\\"0\\\" cellspacing=\\\"0\\\" width=\\\"100%\\\" style=\\\"padding:2px\\\"><tr><td style=\\\"width:18px;padding-right:4px\\\"><a href=\\\"https://news.ycombinator.com\\\"><img src=\\\"y18.gif\\\" width=\\\"18\\\" height=\\\"18\\\" style=\\\"border:1px white solid;\\\"></a></td>\\n                  <td style=\\\"line-height:12pt; height:10px;\\\"><span class=\\\"pagetop\\\"><b class=\\\"hnname\\\"><a href=\\\"news\\\">Hacker News</a></b>\\n              <a href=\\\"newest\\\">new</a> | <a href=\\\"front\\\">past</a> | <a href=\\\"newcomments\\\">comments</a> | <a href=\\\"ask\\\">ask</a> | <a href=\\\"show\\\">show</a> | <a href=\\\"jobs\\\">jobs</a> | <a href=\\\"submit\\\">submit</a>            </span></td><td style=\\\"text-align:right;padding-right:4px;\\\"><span class=\\\"pagetop\\\">\\n                              <a href=\\\"login?goto=news\\\">login</a>\\n                          </span></td>\\n              </tr></table></td></tr>\\n<tr id=\\\"pagespace\\\" title=\\\"\\\" style=\\\"height:10px\\\"></tr><tr><td><table border=\\\"0\\\" cellpadding=\\\"0\\\" cellspacing=\\\"0\\\" class=\\\"itemlist\\\">\\n              <tr class='athing' id='26633038'>\\n      <td align=\\\"right\\\" valign=\\\"top\\\" class=\\\"title\\\"><span class=\\\"rank\\\">1.</span></td>      <td valign=\\\"top\\\" class=\\\"votelinks\\\"><center><a id='up_26633038' href='vote?id=26633038&amp;how=up&amp;goto=news'><div class='votearrow' title='upvote'></div></a></center></td><td class=\\\"title\\\"><a href=\\\"https://www.chalmers.se/en/departments/ims/news/Pages/Big-breakthrough-for-’massless’-energy-storage.aspx\\\" class=\\\"storylink\\\">Breakthrough for ‘massless’ energy storage</a><span class=\\\"sitebit comhead\\\"> (<a href=\\\"from?site=chalmers.se\\\"><span class=\\\"sitestr\\\">chalmers.se</span></a>)</span></td></tr><tr><td colspan=\\\"2\\\"></td><td class=\\\"subtext\\\">\\n        <span class=\\\"score\\\" id=\\\"score_26633038\\\">55 points</span> by <a href=\\\"user?id=reimertz\\\" class=\\\"hnuser\\\">reimertz</a> <span class=\\\"age\\\"><a href=\\\"item?id=26633038\\\">1 hour ago</a></span> <span id=\\\"unv_26633038\\\"></span> | <a href=\\\"hide?id=26633038&amp;goto=news\\\">hide</a> | <a href=\\\"item?id=26633038\\\">17&nbsp;comments</a>              </td></tr>\\n      <tr class=\\\"spacer\\\" style=\\\"height:5px\\\"></tr>\\n                <tr class='athing' id='26631467'>\\n      <td align=\\\"right\\\" valign=\\\"top\\\" class=\\\"title\\\"><span class=\\\"rank\\\">2.</span></td>      <td valign=\\\"top\\\" class=\\\"votelinks\\\"><center><a id='up_26631467' href='vote?id=26631467&amp;how=up&amp;goto=news'><div class='votearrow' title='upvote'></div></a></center></td><td class=\\\"title\\\"><a href=\\\"https://github.com/gruns/icecream\\\" class=\\\"storylink\\\">Icecream: Never use print() to debug again in Python</a><span class=\\\"sitebit comhead\\\"> (<a href=\\\"from?site=github.com/gruns\\\"><span class=\\\"sitestr\\\">github.com/gruns</span></a>)</span></td></tr><tr><td colspan=\\\"2\\\"></td><td class=\\\"subtext\\\">\\n        <span class=\\\"score\\\" id=\\\"score_26631467\\\">226 points</span> by <a href=\\\"user?id=polm23\\\" class=\\\"hnuser\\\">polm23</a> <span class=\\\"age\\\"><a href=\\\"item?id=26631467\\\">7 hours ago</a></span> <span id=\\\"unv_26631467\\\"></span> | <a href=\\\"hide?id=26631467&amp;goto=news\\\">hide</a> | <a href=\\\"item?id=26631467\\\">150&nbsp;comments</a>              </td></tr>\\n      <tr class=\\\"spacer\\\" style=\\\"height:5px\\\"></tr>\\n                <tr class='athing' id='26631308'>\\n      <td align=\\\"right\\\" valign=\\\"top\\\" class=\\\"title\\\"><span class=\\\"rank\\\">3.</span></td>      <td valign=\\\"top\\\" class=\\\"votelinks\\\"><center><a id='up_26631308' href='vote?id=26631308&amp;how=up&amp;goto=news'><div class='votearrow' title='upvote'></div></a></center></td><td class=\\\"title\\\"><a href=\\\"https://bernsteinbear.com/blog/lisp/\\\" class=\\\"storylink\\\">Compiling a Lisp to x86_64 (2020)</a><span class=\\\"sitebit comhead\\\"> (<a href=\\\"from?site=bernsteinbear.com\\\"><span class=\\\"sitestr\\\">bernsteinbear.com</span></a>)</span></td></tr><tr><td colspan=\\\"2\\\"></td><td class=\\\"subtext\\\">\\n        <span class=\\\"score\\\" id=\\\"score_26631308\\\">37 points</span> by <a href=\\\"user?id=sillysaurusx\\\" class=\\\"hnuser\\\">sillysaurusx</a> <span class=\\\"age\\\"><a href=\\\"item?id=26631308\\\">3 hours ago</a></span> <span id=\\\"unv_26631308\\\"></span> | <a href=\\\"hide?id=26631308&amp;goto=news\\\">hide</a> | <a href=\\\"item?id=26631308\\\">7&nbsp;comments</a>              </td></tr>\\n      <tr class=\\\"spacer\\\" style=\\\"height:5px\\\"></tr>\\n                <tr class='athing' id='26631044'>\\n      <td align=\\\"right\\\" valign=\\\"top\\\" class=\\\"title\\\"><span class=\\\"rank\\\">4.</span></td>      <td valign=\\\"top\\\" class=\\\"votelinks\\\"><center><a id='up_26631044' href='vote?id=26631044&amp;how=up&amp;goto=news'><div class='votearrow' title='upvote'></div></a></center></td><td class=\\\"title\\\"><a href=\\\"https://rainway.com/blog/2020/12/09/bebop-an-efficient-schema-based-binary-serialization-format/\\\" class=\\\"storylink\\\">Bebop: An Efficient, Schema-Based Binary Serialization Format</a><span class=\\\"sitebit comhead\\\"> (<a href=\\\"from?site=rainway.com\\\"><span class=\\\"sitestr\\\">rainway.com</span></a>)</span></td></tr><tr><td colspan=\\\"2\\\"></td><td class=\\\"subtext\\\">\\n        <span class=\\\"score\\\" id=\\\"score_26631044\\\">41 points</span> by <a href=\\\"user?id=kompas_msv\\\" class=\\\"hnuser\\\">kompas_msv</a> <span class=\\\"age\\\"><a href=\\\"item?id=26631044\\\">4 hours ago</a></span> <span id=\\\"unv_26631044\\\"></span> | <a href=\\\"hide?id=26631044&amp;goto=news\\\">hide</a> | <a href=\\\"item?id=26631044\\\">21&nbsp;comments</a>              </td></tr>\\n      <tr class=\\\"spacer\\\" style=\\\"height:5px\\\"></tr>\\n                <tr class='athing' id='26632653'>\\n      <td align=\\\"right\\\" valign=\\\"top\\\" class=\\\"title\\\"><span class=\\\"rank\\\">5.</span></td>      <td valign=\\\"top\\\" class=\\\"votelinks\\\"><center><a id='up_26632653' href='vote?id=26632653&amp;how=up&amp;goto=news'><div class='votearrow' title='upvote'></div></a></center></td><td class=\\\"title\\\"><a href=\\\"https://github.com/grgrdvrt/poulette\\\" class=\\\"storylink\\\">Show HN: Poulette – A Color Palette GUI</a><span class=\\\"sitebit comhead\\\"> (<a href=\\\"from?site=github.com/grgrdvrt\\\"><span class=\\\"sitestr\\\">github.com/grgrdvrt</span></a>)</span></td></tr><tr><td colspan=\\\"2\\\"></td><td class=\\\"subtext\\\">\\n        <span class=\\\"score\\\" id=\\\"score_26632653\\\">31 points</span> by <a href=\\\"user?id=grgrdvrt\\\" class=\\\"hnuser\\\">grgrdvrt</a> <span class=\\\"age\\\"><a href=\\\"item?id=26632653\\\">2 hours ago</a></span> <span id=\\\"unv_26632653\\\"></span> | <a href=\\\"hide?id=26632653&amp;goto=news\\\">hide</a> | <a href=\\\"item?id=26632653\\\">9&nbsp;comments</a>              </td></tr>\\n      <tr class=\\\"spacer\\\" style=\\\"height:5px\\\"></tr>\\n                <tr class='athing' id='26619347'>\\n      <td align=\\\"right\\\" valign=\\\"top\\\" class=\\\"title\\\"><span class=\\\"rank\\\">6.</span></td>      <td valign=\\\"top\\\" class=\\\"votelinks\\\"><center><a id='up_26619347' href='vote?id=26619347&amp;how=up&amp;goto=news'><div class='votearrow' title='upvote'></div></a></center></td><td class=\\\"title\\\"><a href=\\\"https://cantorsparadise.substack.com/p/on-norbert-wieners-relationship-with\\\" class=\\\"storylink\\\">On Norbert Wiener's Relationship with Bertrand Russell</a><span class=\\\"sitebit comhead\\\"> (<a href=\\\"from?site=cantorsparadise.substack.com\\\"><span class=\\\"sitestr\\\">cantorsparadise.substack.com</span></a>)</span></td></tr><tr><td colspan=\\\"2\\\"></td><td class=\\\"subtext\\\">\\n        <span class=\\\"score\\\" id=\\\"score_26619347\\\">44 points</span> by <a href=\\\"user?id=jorgenveisdal\\\" class=\\\"hnuser\\\">jorgenveisdal</a> <span class=\\\"age\\\"><a href=\\\"item?id=26619347\\\">3 hours ago</a></span> <span id=\\\"unv_26619347\\\"></span> | <a href=\\\"hide?id=26619347&amp;goto=news\\\">hide</a> | <a href=\\\"item?id=26619347\\\">21&nbsp;comments</a>              </td></tr>\\n      <tr class=\\\"spacer\\\" style=\\\"height:5px\\\"></tr>\\n                <tr class='athing' id='26633581'>\\n      <td align=\\\"right\\\" valign=\\\"top\\\" class=\\\"title\\\"><span class=\\\"rank\\\">7.</span></td>      <td></td><td class=\\\"title\\\"><a href=\\\"https://www.openunit.com/jobs/senior-software-engineer\\\" class=\\\"storylink\\\" rel=\\\"nofollow\\\">OpenUnit (YC W20) Is Hiring a Ruby on Rails Engineer</a><span class=\\\"sitebit comhead\\\"> (<a href=\\\"from?site=openunit.com\\\"><span class=\\\"sitestr\\\">openunit.com</span></a>)</span></td></tr><tr><td colspan=\\\"2\\\"></td><td class=\\\"subtext\\\">\\n        <span class=\\\"age\\\"><a href=\\\"item?id=26633581\\\">30 minutes ago</a></span> | <a href=\\\"hide?id=26633581&amp;goto=news\\\">hide</a>      </td></tr>\\n      <tr class=\\\"spacer\\\" style=\\\"height:5px\\\"></tr>\\n                <tr class='athing' id='26628233'>\\n      <td align=\\\"right\\\" valign=\\\"top\\\" class=\\\"title\\\"><span class=\\\"rank\\\">8.</span></td>      <td valign=\\\"top\\\" class=\\\"votelinks\\\"><center><a id='up_26628233' href='vote?id=26628233&amp;how=up&amp;goto=news'><div class='votearrow' title='upvote'></div></a></center></td><td class=\\\"title\\\"><a href=\\\"https://github.com/NAalytics/Assemblies-of-putative-SARS-CoV2-spike-encoding-mRNA-sequences-for-vaccines-BNT-162b2-and-mRNA-1273/blob/main/Assemblies%20of%20putative%20SARS-CoV2-spike-encoding%20mRNA%20sequences%20for%20vaccines%20BNT-162b2%20and%20mRNA-1273.docx.pdf\\\" class=\\\"storylink\\\">Moderna mRNA sequence released to GitHub [pdf]</a><span class=\\\"sitebit comhead\\\"> (<a href=\\\"from?site=github.com/naalytics\\\"><span class=\\\"sitestr\\\">github.com/naalytics</span></a>)</span></td></tr><tr><td colspan=\\\"2\\\"></td><td class=\\\"subtext\\\">\\n        <span class=\\\"score\\\" id=\\\"score_26628233\\\">1060 points</span> by <a href=\\\"user?id=aty268\\\" class=\\\"hnuser\\\">aty268</a> <span class=\\\"age\\\"><a href=\\\"item?id=26628233\\\">15 hours ago</a></span> <span id=\\\"unv_26628233\\\"></span> | <a href=\\\"hide?id=26628233&amp;goto=news\\\">hide</a> | <a href=\\\"item?id=26628233\\\">310&nbsp;comments</a>              </td></tr>\\n      <tr class=\\\"spacer\\\" style=\\\"height:5px\\\"></tr>\\n                <tr class='athing' id='26619871'>\\n      <td align=\\\"right\\\" valign=\\\"top\\\" class=\\\"title\\\"><span class=\\\"rank\\\">9.</span></td>      <td valign=\\\"top\\\" class=\\\"votelinks\\\"><center><a id='up_26619871' href='vote?id=26619871&amp;how=up&amp;goto=news'><div class='votearrow' title='upvote'></div></a></center></td><td class=\\\"title\\\"><a href=\\\"https://observablehq.com/@johnowhitaker/dotswarm-exploring-slime-mould-inspired-shaders\\\" class=\\\"storylink\\\" rel=\\\"nofollow\\\">Show HN: Play with Shaders Inspired by Slime Mold</a><span class=\\\"sitebit comhead\\\"> (<a href=\\\"from?site=observablehq.com\\\"><span class=\\\"sitestr\\\">observablehq.com</span></a>)</span></td></tr><tr><td colspan=\\\"2\\\"></td><td class=\\\"subtext\\\">\\n        <span class=\\\"score\\\" id=\\\"score_26619871\\\">9 points</span> by <a href=\\\"user?id=Yenrabbit\\\" class=\\\"hnuser\\\">Yenrabbit</a> <span class=\\\"age\\\"><a href=\\\"item?id=26619871\\\">1 hour ago</a></span> <span id=\\\"unv_26619871\\\"></span> | <a href=\\\"hide?id=26619871&amp;goto=news\\\">hide</a> | <a href=\\\"item?id=26619871\\\">4&nbsp;comments</a>              </td></tr>\\n      <tr class=\\\"spacer\\\" style=\\\"height:5px\\\"></tr>\\n                <tr class='athing' id='26630932'>\\n      <td align=\\\"right\\\" valign=\\\"top\\\" class=\\\"title\\\"><span class=\\\"rank\\\">10.</span></td>      <td valign=\\\"top\\\" class=\\\"votelinks\\\"><center><a id='up_26630932' href='vote?id=26630932&amp;how=up&amp;goto=news'><div class='votearrow' title='upvote'></div></a></center></td><td class=\\\"title\\\"><a href=\\\"https://blog.urth.org/2021/03/27/down-the-golang-nil-rabbit-hole/\\\" class=\\\"storylink\\\">Down the Golang Nil Rabbit Hole</a><span class=\\\"sitebit comhead\\\"> (<a href=\\\"from?site=urth.org\\\"><span class=\\\"sitestr\\\">urth.org</span></a>)</span></td></tr><tr><td colspan=\\\"2\\\"></td><td class=\\\"subtext\\\">\\n        <span class=\\\"score\\\" id=\\\"score_26630932\\\">138 points</span> by <a href=\\\"user?id=zdw\\\" class=\\\"hnuser\\\">zdw</a> <span class=\\\"age\\\"><a href=\\\"item?id=26630932\\\">9 hours ago</a></span> <span id=\\\"unv_26630932\\\"></span> | <a href=\\\"hide?id=26630932&amp;goto=news\\\">hide</a> | <a href=\\\"item?id=26630932\\\">90&nbsp;comments</a>              </td></tr>\\n      <tr class=\\\"spacer\\\" style=\\\"height:5px\\\"></tr>\\n                <tr class='athing' id='26628679'>\\n      <td align=\\\"right\\\" valign=\\\"top\\\" class=\\\"title\\\"><span class=\\\"rank\\\">11.</span></td>      <td valign=\\\"top\\\" class=\\\"votelinks\\\"><center><a id='up_26628679' href='vote?id=26628679&amp;how=up&amp;goto=news'><div class='votearrow' title='upvote'></div></a></center></td><td class=\\\"title\\\"><a href=\\\"https://wattenberger.com/blog/react-and-d3\\\" class=\\\"storylink\\\">React and D3.js</a><span class=\\\"sitebit comhead\\\"> (<a href=\\\"from?site=wattenberger.com\\\"><span class=\\\"sitestr\\\">wattenberger.com</span></a>)</span></td></tr><tr><td colspan=\\\"2\\\"></td><td class=\\\"subtext\\\">\\n        <span class=\\\"score\\\" id=\\\"score_26628679\\\">287 points</span> by <a href=\\\"user?id=mxschumacher\\\" class=\\\"hnuser\\\">mxschumacher</a> <span class=\\\"age\\\"><a href=\\\"item?id=26628679\\\">14 hours ago</a></span> <span id=\\\"unv_26628679\\\"></span> | <a href=\\\"hide?id=26628679&amp;goto=news\\\">hide</a> | <a href=\\\"item?id=26628679\\\">75&nbsp;comments</a>              </td></tr>\\n      <tr class=\\\"spacer\\\" style=\\\"height:5px\\\"></tr>\\n                <tr class='athing' id='26629765'>\\n      <td align=\\\"right\\\" valign=\\\"top\\\" class=\\\"title\\\"><span class=\\\"rank\\\">12.</span></td>      <td valign=\\\"top\\\" class=\\\"votelinks\\\"><center><a id='up_26629765' href='vote?id=26629765&amp;how=up&amp;goto=news'><div class='votearrow' title='upvote'></div></a></center></td><td class=\\\"title\\\"><a href=\\\"https://blog.brixit.nl/git-email-flow-versus-github-flow/\\\" class=\\\"storylink\\\">Git email flow vs. GitHub flow</a><span class=\\\"sitebit comhead\\\"> (<a href=\\\"from?site=brixit.nl\\\"><span class=\\\"sitestr\\\">brixit.nl</span></a>)</span></td></tr><tr><td colspan=\\\"2\\\"></td><td class=\\\"subtext\\\">\\n        <span class=\\\"score\\\" id=\\\"score_26629765\\\">174 points</span> by <a href=\\\"user?id=pabs3\\\" class=\\\"hnuser\\\">pabs3</a> <span class=\\\"age\\\"><a href=\\\"item?id=26629765\\\">12 hours ago</a></span> <span id=\\\"unv_26629765\\\"></span> | <a href=\\\"hide?id=26629765&amp;goto=news\\\">hide</a> | <a href=\\\"item?id=26629765\\\">83&nbsp;comments</a>              </td></tr>\\n      <tr class=\\\"spacer\\\" style=\\\"height:5px\\\"></tr>\\n                <tr class='athing' id='26630385'>\\n      <td align=\\\"right\\\" valign=\\\"top\\\" class=\\\"title\\\"><span class=\\\"rank\\\">13.</span></td>      <td valign=\\\"top\\\" class=\\\"votelinks\\\"><center><a id='up_26630385' href='vote?id=26630385&amp;how=up&amp;goto=news'><div class='votearrow' title='upvote'></div></a></center></td><td class=\\\"title\\\"><a href=\\\"https://arxiv.org/abs/2103.00352\\\" class=\\\"storylink\\\">Underproduction: An Approach for Measuring Risk in Open Source Software</a><span class=\\\"sitebit comhead\\\"> (<a href=\\\"from?site=arxiv.org\\\"><span class=\\\"sitestr\\\">arxiv.org</span></a>)</span></td></tr><tr><td colspan=\\\"2\\\"></td><td class=\\\"subtext\\\">\\n        <span class=\\\"score\\\" id=\\\"score_26630385\\\">77 points</span> by <a href=\\\"user?id=pabs3\\\" class=\\\"hnuser\\\">pabs3</a> <span class=\\\"age\\\"><a href=\\\"item?id=26630385\\\">11 hours ago</a></span> <span id=\\\"unv_26630385\\\"></span> | <a href=\\\"hide?id=26630385&amp;goto=news\\\">hide</a> | <a href=\\\"item?id=26630385\\\">13&nbsp;comments</a>              </td></tr>\\n      <tr class=\\\"spacer\\\" style=\\\"height:5px\\\"></tr>\\n                <tr class='athing' id='26620267'>\\n      <td align=\\\"right\\\" valign=\\\"top\\\" class=\\\"title\\\"><span class=\\\"rank\\\">14.</span></td>      <td valign=\\\"top\\\" class=\\\"votelinks\\\"><center><a id='up_26620267' href='vote?id=26620267&amp;how=up&amp;goto=news'><div class='votearrow' title='upvote'></div></a></center></td><td class=\\\"title\\\"><a href=\\\"https://muboard.net/\\\" class=\\\"storylink\\\">Muboard: Mathematics Chalkboard with LaTeX and Markdown Support</a><span class=\\\"sitebit comhead\\\"> (<a href=\\\"from?site=muboard.net\\\"><span class=\\\"sitestr\\\">muboard.net</span></a>)</span></td></tr><tr><td colspan=\\\"2\\\"></td><td class=\\\"subtext\\\">\\n        <span class=\\\"score\\\" id=\\\"score_26620267\\\">23 points</span> by <a href=\\\"user?id=susam\\\" class=\\\"hnuser\\\">susam</a> <span class=\\\"age\\\"><a href=\\\"item?id=26620267\\\">5 hours ago</a></span> <span id=\\\"unv_26620267\\\"></span> | <a href=\\\"hide?id=26620267&amp;goto=news\\\">hide</a> | <a href=\\\"item?id=26620267\\\">6&nbsp;comments</a>              </td></tr>\\n      <tr class=\\\"spacer\\\" style=\\\"height:5px\\\"></tr>\\n                <tr class='athing' id='26621308'>\\n      <td align=\\\"right\\\" valign=\\\"top\\\" class=\\\"title\\\"><span class=\\\"rank\\\">15.</span></td>      <td valign=\\\"top\\\" class=\\\"votelinks\\\"><center><a id='up_26621308' href='vote?id=26621308&amp;how=up&amp;goto=news'><div class='votearrow' title='upvote'></div></a></center></td><td class=\\\"title\\\"><a href=\\\"https://www.reuters.com/article/us-egypt-suezcanal-ship-floated/suez-canal-says-traffic-in-channel-resumes-after-stranded-ship-refloated-idUSKBN2BL1S9\\\" class=\\\"storylink\\\">Suez Canal says traffic in channel resumes after stranded ship refloated</a><span class=\\\"sitebit comhead\\\"> (<a href=\\\"from?site=reuters.com\\\"><span class=\\\"sitestr\\\">reuters.com</span></a>)</span></td></tr><tr><td colspan=\\\"2\\\"></td><td class=\\\"subtext\\\">\\n        <span class=\\\"score\\\" id=\\\"score_26621308\\\">1040 points</span> by <a href=\\\"user?id=WJW\\\" class=\\\"hnuser\\\">WJW</a> <span class=\\\"age\\\"><a href=\\\"item?id=26621308\\\">22 hours ago</a></span> <span id=\\\"unv_26621308\\\"></span> | <a href=\\\"hide?id=26621308&amp;goto=news\\\">hide</a> | <a href=\\\"item?id=26621308\\\">549&nbsp;comments</a>              </td></tr>\\n      <tr class=\\\"spacer\\\" style=\\\"height:5px\\\"></tr>\\n                <tr class='athing' id='26632690'>\\n      <td align=\\\"right\\\" valign=\\\"top\\\" class=\\\"title\\\"><span class=\\\"rank\\\">16.</span></td>      <td valign=\\\"top\\\" class=\\\"votelinks\\\"><center><a id='up_26632690' href='vote?id=26632690&amp;how=up&amp;goto=news'><div class='votearrow' title='upvote'></div></a></center></td><td class=\\\"title\\\"><a href=\\\"https://daniel.haxx.se/blog/2021/03/30/howto-backdoor-curl/\\\" class=\\\"storylink\\\">How to backdoor curl</a><span class=\\\"sitebit comhead\\\"> (<a href=\\\"from?site=haxx.se\\\"><span class=\\\"sitestr\\\">haxx.se</span></a>)</span></td></tr><tr><td colspan=\\\"2\\\"></td><td class=\\\"subtext\\\">\\n        <span class=\\\"score\\\" id=\\\"score_26632690\\\">46 points</span> by <a href=\\\"user?id=caution\\\" class=\\\"hnuser\\\">caution</a> <span class=\\\"age\\\"><a href=\\\"item?id=26632690\\\">2 hours ago</a></span> <span id=\\\"unv_26632690\\\"></span> | <a href=\\\"hide?id=26632690&amp;goto=news\\\">hide</a> | <a href=\\\"item?id=26632690\\\">7&nbsp;comments</a>              </td></tr>\\n      <tr class=\\\"spacer\\\" style=\\\"height:5px\\\"></tr>\\n                <tr class='athing' id='26620486'>\\n      <td align=\\\"right\\\" valign=\\\"top\\\" class=\\\"title\\\"><span class=\\\"rank\\\">17.</span></td>      <td valign=\\\"top\\\" class=\\\"votelinks\\\"><center><a id='up_26620486' href='vote?id=26620486&amp;how=up&amp;goto=news'><div class='votearrow' title='upvote'></div></a></center></td><td class=\\\"title\\\"><a href=\\\"https://www.quantamagazine.org/ancient-rocks-reveal-when-earths-plate-tectonics-began-20210325/\\\" class=\\\"storylink\\\">Ancient Rocks Reveal When Earth’s Plate Tectonics Began</a><span class=\\\"sitebit comhead\\\"> (<a href=\\\"from?site=quantamagazine.org\\\"><span class=\\\"sitestr\\\">quantamagazine.org</span></a>)</span></td></tr><tr><td colspan=\\\"2\\\"></td><td class=\\\"subtext\\\">\\n        <span class=\\\"score\\\" id=\\\"score_26620486\\\">9 points</span> by <a href=\\\"user?id=rbanffy\\\" class=\\\"hnuser\\\">rbanffy</a> <span class=\\\"age\\\"><a href=\\\"item?id=26620486\\\">4 hours ago</a></span> <span id=\\\"unv_26620486\\\"></span> | <a href=\\\"hide?id=26620486&amp;goto=news\\\">hide</a> | <a href=\\\"item?id=26620486\\\">1&nbsp;comment</a>              </td></tr>\\n      <tr class=\\\"spacer\\\" style=\\\"height:5px\\\"></tr>\\n                <tr class='athing' id='26628965'>\\n      <td align=\\\"right\\\" valign=\\\"top\\\" class=\\\"title\\\"><span class=\\\"rank\\\">18.</span></td>      <td valign=\\\"top\\\" class=\\\"votelinks\\\"><center><a id='up_26628965' href='vote?id=26628965&amp;how=up&amp;goto=news'><div class='votearrow' title='upvote'></div></a></center></td><td class=\\\"title\\\"><a href=\\\"https://www.laphamsquarterly.org/technology/work-force\\\" class=\\\"storylink\\\">Frederick W. Taylor offers some productivity hacks (1911)</a><span class=\\\"sitebit comhead\\\"> (<a href=\\\"from?site=laphamsquarterly.org\\\"><span class=\\\"sitestr\\\">laphamsquarterly.org</span></a>)</span></td></tr><tr><td colspan=\\\"2\\\"></td><td class=\\\"subtext\\\">\\n        <span class=\\\"score\\\" id=\\\"score_26628965\\\">55 points</span> by <a href=\\\"user?id=drdee\\\" class=\\\"hnuser\\\">drdee</a> <span class=\\\"age\\\"><a href=\\\"item?id=26628965\\\">14 hours ago</a></span> <span id=\\\"unv_26628965\\\"></span> | <a href=\\\"hide?id=26628965&amp;goto=news\\\">hide</a> | <a href=\\\"item?id=26628965\\\">32&nbsp;comments</a>              </td></tr>\\n      <tr class=\\\"spacer\\\" style=\\\"height:5px\\\"></tr>\\n                <tr class='athing' id='26620116'>\\n      <td align=\\\"right\\\" valign=\\\"top\\\" class=\\\"title\\\"><span class=\\\"rank\\\">19.</span></td>      <td valign=\\\"top\\\" class=\\\"votelinks\\\"><center><a id='up_26620116' href='vote?id=26620116&amp;how=up&amp;goto=news'><div class='votearrow' title='upvote'></div></a></center></td><td class=\\\"title\\\"><a href=\\\"https://deno.com/blog/the-deno-company\\\" class=\\\"storylink\\\">The Deno Company</a><span class=\\\"sitebit comhead\\\"> (<a href=\\\"from?site=deno.com\\\"><span class=\\\"sitestr\\\">deno.com</span></a>)</span></td></tr><tr><td colspan=\\\"2\\\"></td><td class=\\\"subtext\\\">\\n        <span class=\\\"score\\\" id=\\\"score_26620116\\\">848 points</span> by <a href=\\\"user?id=elisee\\\" class=\\\"hnuser\\\">elisee</a> <span class=\\\"age\\\"><a href=\\\"item?id=26620116\\\">1 day ago</a></span> <span id=\\\"unv_26620116\\\"></span> | <a href=\\\"hide?id=26620116&amp;goto=news\\\">hide</a> | <a href=\\\"item?id=26620116\\\">405&nbsp;comments</a>              </td></tr>\\n      <tr class=\\\"spacer\\\" style=\\\"height:5px\\\"></tr>\\n                <tr class='athing' id='26631041'>\\n      <td align=\\\"right\\\" valign=\\\"top\\\" class=\\\"title\\\"><span class=\\\"rank\\\">20.</span></td>      <td valign=\\\"top\\\" class=\\\"votelinks\\\"><center><a id='up_26631041' href='vote?id=26631041&amp;how=up&amp;goto=news'><div class='votearrow' title='upvote'></div></a></center></td><td class=\\\"title\\\"><a href=\\\"https://www.nytimes.com/2021/03/23/technology/intel-arizona-chip-factories.html\\\" class=\\\"storylink\\\">Intel to spend $20B on two new chip factories in Arizona</a><span class=\\\"sitebit comhead\\\"> (<a href=\\\"from?site=nytimes.com\\\"><span class=\\\"sitestr\\\">nytimes.com</span></a>)</span></td></tr><tr><td colspan=\\\"2\\\"></td><td class=\\\"subtext\\\">\\n        <span class=\\\"score\\\" id=\\\"score_26631041\\\">116 points</span> by <a href=\\\"user?id=fortran77\\\" class=\\\"hnuser\\\">fortran77</a> <span class=\\\"age\\\"><a href=\\\"item?id=26631041\\\">8 hours ago</a></span> <span id=\\\"unv_26631041\\\"></span> | <a href=\\\"hide?id=26631041&amp;goto=news\\\">hide</a> | <a href=\\\"item?id=26631041\\\">73&nbsp;comments</a>              </td></tr>\\n      <tr class=\\\"spacer\\\" style=\\\"height:5px\\\"></tr>\\n                <tr class='athing' id='26621266'>\\n      <td align=\\\"right\\\" valign=\\\"top\\\" class=\\\"title\\\"><span class=\\\"rank\\\">21.</span></td>      <td valign=\\\"top\\\" class=\\\"votelinks\\\"><center><a id='up_26621266' href='vote?id=26621266&amp;how=up&amp;goto=news'><div class='votearrow' title='upvote'></div></a></center></td><td class=\\\"title\\\"><a href=\\\"item?id=26621266\\\" class=\\\"storylink\\\">Launch HN: Greywing (YC W21) – Automated ship operations focused on crew</a></td></tr><tr><td colspan=\\\"2\\\"></td><td class=\\\"subtext\\\">\\n        <span class=\\\"score\\\" id=\\\"score_26621266\\\">121 points</span> by <a href=\\\"user?id=hrishi\\\" class=\\\"hnuser\\\">hrishi</a> <span class=\\\"age\\\"><a href=\\\"item?id=26621266\\\">20 hours ago</a></span> <span id=\\\"unv_26621266\\\"></span> | <a href=\\\"hide?id=26621266&amp;goto=news\\\">hide</a> | <a href=\\\"item?id=26621266\\\">50&nbsp;comments</a>              </td></tr>\\n      <tr class=\\\"spacer\\\" style=\\\"height:5px\\\"></tr>\\n                <tr class='athing' id='26623362'>\\n      <td align=\\\"right\\\" valign=\\\"top\\\" class=\\\"title\\\"><span class=\\\"rank\\\">22.</span></td>      <td valign=\\\"top\\\" class=\\\"votelinks\\\"><center><a id='up_26623362' href='vote?id=26623362&amp;how=up&amp;goto=news'><div class='votearrow' title='upvote'></div></a></center></td><td class=\\\"title\\\"><a href=\\\"http://68k.news/\\\" class=\\\"storylink\\\">68k.news: A Netscape 1.1 makeover of Google News</a><span class=\\\"sitebit comhead\\\"> (<a href=\\\"from?site=68k.news\\\"><span class=\\\"sitestr\\\">68k.news</span></a>)</span></td></tr><tr><td colspan=\\\"2\\\"></td><td class=\\\"subtext\\\">\\n        <span class=\\\"score\\\" id=\\\"score_26623362\\\">377 points</span> by <a href=\\\"user?id=gripfx\\\" class=\\\"hnuser\\\">gripfx</a> <span class=\\\"age\\\"><a href=\\\"item?id=26623362\\\">20 hours ago</a></span> <span id=\\\"unv_26623362\\\"></span> | <a href=\\\"hide?id=26623362&amp;goto=news\\\">hide</a> | <a href=\\\"item?id=26623362\\\">131&nbsp;comments</a>              </td></tr>\\n      <tr class=\\\"spacer\\\" style=\\\"height:5px\\\"></tr>\\n                <tr class='athing' id='26625356'>\\n      <td align=\\\"right\\\" valign=\\\"top\\\" class=\\\"title\\\"><span class=\\\"rank\\\">23.</span></td>      <td valign=\\\"top\\\" class=\\\"votelinks\\\"><center><a id='up_26625356' href='vote?id=26625356&amp;how=up&amp;goto=news'><div class='votearrow' title='upvote'></div></a></center></td><td class=\\\"title\\\"><a href=\\\"https://www.intel.com/content/www/us/en/products/docs/io/universal-serial-bus/usb3-frequency-interference-paper.html\\\" class=\\\"storylink\\\">USB 3.0* Radio Frequency Interference on 2.4 GHz Devices (2012)</a><span class=\\\"sitebit comhead\\\"> (<a href=\\\"from?site=intel.com\\\"><span class=\\\"sitestr\\\">intel.com</span></a>)</span></td></tr><tr><td colspan=\\\"2\\\"></td><td class=\\\"subtext\\\">\\n        <span class=\\\"score\\\" id=\\\"score_26625356\\\">331 points</span> by <a href=\\\"user?id=cyberlab\\\" class=\\\"hnuser\\\">cyberlab</a> <span class=\\\"age\\\"><a href=\\\"item?id=26625356\\\">18 hours ago</a></span> <span id=\\\"unv_26625356\\\"></span> | <a href=\\\"hide?id=26625356&amp;goto=news\\\">hide</a> | <a href=\\\"item?id=26625356\\\">204&nbsp;comments</a>              </td></tr>\\n      <tr class=\\\"spacer\\\" style=\\\"height:5px\\\"></tr>\\n                <tr class='athing' id='26611371'>\\n      <td align=\\\"right\\\" valign=\\\"top\\\" class=\\\"title\\\"><span class=\\\"rank\\\">24.</span></td>      <td valign=\\\"top\\\" class=\\\"votelinks\\\"><center><a id='up_26611371' href='vote?id=26611371&amp;how=up&amp;goto=news'><div class='votearrow' title='upvote'></div></a></center></td><td class=\\\"title\\\"><a href=\\\"https://gregraiz.com/i-made-an-eink-newspaper/\\\" class=\\\"storylink\\\">I made an eInk newspaper</a><span class=\\\"sitebit comhead\\\"> (<a href=\\\"from?site=gregraiz.com\\\"><span class=\\\"sitestr\\\">gregraiz.com</span></a>)</span></td></tr><tr><td colspan=\\\"2\\\"></td><td class=\\\"subtext\\\">\\n        <span class=\\\"score\\\" id=\\\"score_26611371\\\">518 points</span> by <a href=\\\"user?id=graiz\\\" class=\\\"hnuser\\\">graiz</a> <span class=\\\"age\\\"><a href=\\\"item?id=26611371\\\">1 day ago</a></span> <span id=\\\"unv_26611371\\\"></span> | <a href=\\\"hide?id=26611371&amp;goto=news\\\">hide</a> | <a href=\\\"item?id=26611371\\\">207&nbsp;comments</a>              </td></tr>\\n      <tr class=\\\"spacer\\\" style=\\\"height:5px\\\"></tr>\\n                <tr class='athing' id='26632837'>\\n      <td align=\\\"right\\\" valign=\\\"top\\\" class=\\\"title\\\"><span class=\\\"rank\\\">25.</span></td>      <td valign=\\\"top\\\" class=\\\"votelinks\\\"><center><a id='up_26632837' href='vote?id=26632837&amp;how=up&amp;goto=news'><div class='votearrow' title='upvote'></div></a></center></td><td class=\\\"title\\\"><a href=\\\"https://twitter.com/MikaelThalen/status/1376653334396903428\\\" class=\\\"storylink\\\">U.S. Strategic Command response to FOIA request regarding gibberish tweet</a><span class=\\\"sitebit comhead\\\"> (<a href=\\\"from?site=twitter.com/mikaelthalen\\\"><span class=\\\"sitestr\\\">twitter.com/mikaelthalen</span></a>)</span></td></tr><tr><td colspan=\\\"2\\\"></td><td class=\\\"subtext\\\">\\n        <span class=\\\"score\\\" id=\\\"score_26632837\\\">81 points</span> by <a href=\\\"user?id=danso\\\" class=\\\"hnuser\\\">danso</a> <span class=\\\"age\\\"><a href=\\\"item?id=26632837\\\">2 hours ago</a></span> <span id=\\\"unv_26632837\\\"></span> | <a href=\\\"hide?id=26632837&amp;goto=news\\\">hide</a> | <a href=\\\"item?id=26632837\\\">78&nbsp;comments</a>              </td></tr>\\n      <tr class=\\\"spacer\\\" style=\\\"height:5px\\\"></tr>\\n                <tr class='athing' id='26624341'>\\n      <td align=\\\"right\\\" valign=\\\"top\\\" class=\\\"title\\\"><span class=\\\"rank\\\">26.</span></td>      <td valign=\\\"top\\\" class=\\\"votelinks\\\"><center><a id='up_26624341' href='vote?id=26624341&amp;how=up&amp;goto=news'><div class='votearrow' title='upvote'></div></a></center></td><td class=\\\"title\\\"><a href=\\\"https://coollabs.io/coolify\\\" class=\\\"storylink\\\">Show HN: An open-source, self-hostable Heroku and Netlify alternative</a><span class=\\\"sitebit comhead\\\"> (<a href=\\\"from?site=coollabs.io\\\"><span class=\\\"sitestr\\\">coollabs.io</span></a>)</span></td></tr><tr><td colspan=\\\"2\\\"></td><td class=\\\"subtext\\\">\\n        <span class=\\\"score\\\" id=\\\"score_26624341\\\">314 points</span> by <a href=\\\"user?id=andrasbacsai\\\" class=\\\"hnuser\\\">andrasbacsai</a> <span class=\\\"age\\\"><a href=\\\"item?id=26624341\\\">19 hours ago</a></span> <span id=\\\"unv_26624341\\\"></span> | <a href=\\\"hide?id=26624341&amp;goto=news\\\">hide</a> | <a href=\\\"item?id=26624341\\\">104&nbsp;comments</a>              </td></tr>\\n      <tr class=\\\"spacer\\\" style=\\\"height:5px\\\"></tr>\\n                <tr class='athing' id='26624386'>\\n      <td align=\\\"right\\\" valign=\\\"top\\\" class=\\\"title\\\"><span class=\\\"rank\\\">27.</span></td>      <td valign=\\\"top\\\" class=\\\"votelinks\\\"><center><a id='up_26624386' href='vote?id=26624386&amp;how=up&amp;goto=news'><div class='votearrow' title='upvote'></div></a></center></td><td class=\\\"title\\\"><a href=\\\"https://numi.app/\\\" class=\\\"storylink\\\">Numi – Calculator app for Mac</a><span class=\\\"sitebit comhead\\\"> (<a href=\\\"from?site=numi.app\\\"><span class=\\\"sitestr\\\">numi.app</span></a>)</span></td></tr><tr><td colspan=\\\"2\\\"></td><td class=\\\"subtext\\\">\\n        <span class=\\\"score\\\" id=\\\"score_26624386\\\">374 points</span> by <a href=\\\"user?id=caminocorner\\\" class=\\\"hnuser\\\">caminocorner</a> <span class=\\\"age\\\"><a href=\\\"item?id=26624386\\\">19 hours ago</a></span> <span id=\\\"unv_26624386\\\"></span> | <a href=\\\"hide?id=26624386&amp;goto=news\\\">hide</a> | <a href=\\\"item?id=26624386\\\">164&nbsp;comments</a>              </td></tr>\\n      <tr class=\\\"spacer\\\" style=\\\"height:5px\\\"></tr>\\n                <tr class='athing' id='26628285'>\\n      <td align=\\\"right\\\" valign=\\\"top\\\" class=\\\"title\\\"><span class=\\\"rank\\\">28.</span></td>      <td valign=\\\"top\\\" class=\\\"votelinks\\\"><center><a id='up_26628285' href='vote?id=26628285&amp;how=up&amp;goto=news'><div class='votearrow' title='upvote'></div></a></center></td><td class=\\\"title\\\"><a href=\\\"https://blog.tonari.no/introducing-innernet\\\" class=\\\"storylink\\\">Innernet: open source Rust based Tailscale alternative</a><span class=\\\"sitebit comhead\\\"> (<a href=\\\"from?site=tonari.no\\\"><span class=\\\"sitestr\\\">tonari.no</span></a>)</span></td></tr><tr><td colspan=\\\"2\\\"></td><td class=\\\"subtext\\\">\\n        <span class=\\\"score\\\" id=\\\"score_26628285\\\">231 points</span> by <a href=\\\"user?id=ricklamers\\\" class=\\\"hnuser\\\">ricklamers</a> <span class=\\\"age\\\"><a href=\\\"item?id=26628285\\\">15 hours ago</a></span> <span id=\\\"unv_26628285\\\"></span> | <a href=\\\"hide?id=26628285&amp;goto=news\\\">hide</a> | <a href=\\\"item?id=26628285\\\">50&nbsp;comments</a>              </td></tr>\\n      <tr class=\\\"spacer\\\" style=\\\"height:5px\\\"></tr>\\n                <tr class='athing' id='26633194'>\\n      <td align=\\\"right\\\" valign=\\\"top\\\" class=\\\"title\\\"><span class=\\\"rank\\\">29.</span></td>      <td valign=\\\"top\\\" class=\\\"votelinks\\\"><center><a id='up_26633194' href='vote?id=26633194&amp;how=up&amp;goto=news'><div class='votearrow' title='upvote'></div></a></center></td><td class=\\\"title\\\"><a href=\\\"https://www.techradar.com/news/python-turns-30-meet-the-man-tasked-with-keeping-the-programming-language-on-track\\\" class=\\\"storylink\\\" rel=\\\"nofollow\\\">Python turns 30 (Guido van Rossum interview)</a><span class=\\\"sitebit comhead\\\"> (<a href=\\\"from?site=techradar.com\\\"><span class=\\\"sitestr\\\">techradar.com</span></a>)</span></td></tr><tr><td colspan=\\\"2\\\"></td><td class=\\\"subtext\\\">\\n        <span class=\\\"score\\\" id=\\\"score_26633194\\\">4 points</span> by <a href=\\\"user?id=tosh\\\" class=\\\"hnuser\\\">tosh</a> <span class=\\\"age\\\"><a href=\\\"item?id=26633194\\\">1 hour ago</a></span> <span id=\\\"unv_26633194\\\"></span> | <a href=\\\"hide?id=26633194&amp;goto=news\\\">hide</a> | <a href=\\\"item?id=26633194\\\">1&nbsp;comment</a>              </td></tr>\\n      <tr class=\\\"spacer\\\" style=\\\"height:5px\\\"></tr>\\n                <tr class='athing' id='26625398'>\\n      <td align=\\\"right\\\" valign=\\\"top\\\" class=\\\"title\\\"><span class=\\\"rank\\\">30.</span></td>      <td valign=\\\"top\\\" class=\\\"votelinks\\\"><center><a id='up_26625398' href='vote?id=26625398&amp;how=up&amp;goto=news'><div class='votearrow' title='upvote'></div></a></center></td><td class=\\\"title\\\"><a href=\\\"https://hpyproject.org/blog/posts/2021/03/hello-hpy/\\\" class=\\\"storylink\\\">Hello, HPy</a><span class=\\\"sitebit comhead\\\"> (<a href=\\\"from?site=hpyproject.org\\\"><span class=\\\"sitestr\\\">hpyproject.org</span></a>)</span></td></tr><tr><td colspan=\\\"2\\\"></td><td class=\\\"subtext\\\">\\n        <span class=\\\"score\\\" id=\\\"score_26625398\\\">303 points</span> by <a href=\\\"user?id=milliams\\\" class=\\\"hnuser\\\">milliams</a> <span class=\\\"age\\\"><a href=\\\"item?id=26625398\\\">18 hours ago</a></span> <span id=\\\"unv_26625398\\\"></span> | <a href=\\\"hide?id=26625398&amp;goto=news\\\">hide</a> | <a href=\\\"item?id=26625398\\\">40&nbsp;comments</a>              </td></tr>\\n      <tr class=\\\"spacer\\\" style=\\\"height:5px\\\"></tr>\\n            <tr class=\\\"morespace\\\" style=\\\"height:10px\\\"></tr><tr><td colspan=\\\"2\\\"></td><td class=\\\"title\\\"><a href=\\\"news?p=2\\\" class=\\\"morelink\\\" rel=\\\"next\\\">More</a></td></tr>\\n  </table>\\n</td></tr>\\n<tr><td><img src=\\\"s.gif\\\" height=\\\"10\\\" width=\\\"0\\\"><table width=\\\"100%\\\" cellspacing=\\\"0\\\" cellpadding=\\\"1\\\"><tr><td bgcolor=\\\"#ff6600\\\"></td></tr></table><br><center><span class=\\\"yclinks\\\"><a href=\\\"newsguidelines.html\\\">Guidelines</a>\\n        | <a href=\\\"newsfaq.html\\\">FAQ</a>\\n        | <a href=\\\"lists\\\">Lists</a>\\n        | <a href=\\\"https://github.com/HackerNews/API\\\">API</a>\\n        | <a href=\\\"security.html\\\">Security</a>\\n        | <a href=\\\"http://www.ycombinator.com/legal/\\\">Legal</a>\\n        | <a href=\\\"http://www.ycombinator.com/apply/\\\">Apply to YC</a>\\n        | <a href=\\\"mailto:hn@ycombinator.com\\\">Contact</a></span><br><br><form method=\\\"get\\\" action=\\\"//hn.algolia.com/\\\">Search:\\n          <input type=\\\"text\\\" name=\\\"q\\\" value=\\\"\\\" size=\\\"17\\\" autocorrect=\\\"off\\\" spellcheck=\\\"false\\\" autocapitalize=\\\"off\\\" autocomplete=\\\"false\\\"></form>\\n            </center></td></tr>\\n      </table></center></body><script type='text/javascript' src='hn.js?Zv6dtmW8Nw0dpybHYlbr'></script></html>\\n\""
      ]
     },
     "execution_count": 2,
     "metadata": {},
     "output_type": "execute_result"
    }
   ],
   "source": [
    "(slurp \"https://news.ycombinator.com/\")"
   ]
  }
 ],
 "metadata": {
  "kernelspec": {
   "display_name": "Clojure (clojupyter=0.3.2=1)",
   "language": "clojure",
   "name": "conda-clojupyter"
  },
  "language_info": {
   "file_extension": ".clj",
   "mimetype": "text/x-clojure",
   "name": "clojure",
   "version": "1.10.1"
  },
  "varInspector": {
   "cols": {
    "lenName": 16,
    "lenType": 16,
    "lenVar": 40
   },
   "kernels_config": {
    "python": {
     "delete_cmd_postfix": "",
     "delete_cmd_prefix": "del ",
     "library": "var_list.py",
     "varRefreshCmd": "print(var_dic_list())"
    },
    "r": {
     "delete_cmd_postfix": ") ",
     "delete_cmd_prefix": "rm(",
     "library": "var_list.r",
     "varRefreshCmd": "cat(var_dic_list()) "
    }
   },
   "types_to_exclude": [
    "module",
    "function",
    "builtin_function_or_method",
    "instance",
    "_Feature"
   ],
   "window_display": false
  }
 },
 "nbformat": 4,
 "nbformat_minor": 5
}
